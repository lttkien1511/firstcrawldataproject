{
 "cells": [
  {
   "attachments": {},
   "cell_type": "markdown",
   "metadata": {},
   "source": [
    "Runtime setup"
   ]
  },
  {
   "cell_type": "code",
   "execution_count": 83,
   "metadata": {},
   "outputs": [],
   "source": [
    "import requests\n",
    "from bs4 import BeautifulSoup\n",
    "import pandas as pd\n",
    "import re\n",
    "import csv\n"
   ]
  },
  {
   "attachments": {},
   "cell_type": "markdown",
   "metadata": {},
   "source": [
    "Regex code"
   ]
  },
  {
   "cell_type": "code",
   "execution_count": 84,
   "metadata": {},
   "outputs": [],
   "source": [
    "re_title = r\"title=\\\"(.*?)\\\"\"\n",
    "re_element = r\"\\b.*(?P<Maker>BenQ|MSI|AOC|LG|HP|Dell|ASUS|Lenovo).*?(?P<Size>\\d*\\W*\\d\\sInch)\\s*(?P<Panel>IPS|TN|VA|Fast\\sIPS|OLED|QD-OLED|Rapid\\sIPS)\\s*(?P<FrameRate>\\d*Hz)\\s*(?P<Code>.*)\"\n",
    "re_price = r\"(?P<Price>[\\d.]+)\""
   ]
  },
  {
   "attachments": {},
   "cell_type": "markdown",
   "metadata": {},
   "source": [
    "Crawl Data"
   ]
  },
  {
   "cell_type": "code",
   "execution_count": 86,
   "metadata": {},
   "outputs": [],
   "source": [
    "with open('Memoryzone_monitor.csv', 'w', newline='') as csvfile:\n",
    "    writer = csv.writer(csvfile)\n",
    "    writer.writerow(['Maker', 'Size', 'Panel', 'FrameRate', 'Code', 'Price'])\n",
    "\n",
    "    for i in range (1,4):\n",
    "        url = (\"https://memoryzone.com.vn/man-hinh?q=collections:2575334&page={i}&view=grid\").format(i =i)\n",
    "        r = requests.get(url)\n",
    "        r = r.text\n",
    "        soup = BeautifulSoup(r, \"lxml\")\n",
    "\n",
    "\n",
    "        productname = soup.find_all(\"h3\", class_ = \"product-name\")\n",
    "        productname = str(productname)\n",
    "\n",
    "        productprice = soup.find_all(\"div\", class_ = \"special-price\")\n",
    "        productprice = str(productprice)\n",
    "\n",
    "        titles = re.findall(re_title, productname)\n",
    "        price = re.findall(re_price, productprice)\n",
    "\n",
    "        for j,k in zip(titles,price):\n",
    "            element = re.search(re_element,j)\n",
    "            monitorprice = re.search(re_price,k)\n",
    "            if element and monitorprice:\n",
    "                maker = element.group('Maker')\n",
    "                size  = element.group('Size')\n",
    "                panel = element.group('Panel')\n",
    "                framerate = element.group('FrameRate')\n",
    "                code = element.group('Code')\n",
    "                price = monitorprice.group('Price')\n",
    "                writer.writerow([maker, size, panel, framerate, code, price])\n",
    "            \n",
    "        \n",
    "            \n",
    "    "
   ]
  }
 ],
 "metadata": {
  "kernelspec": {
   "display_name": "Python 3",
   "language": "python",
   "name": "python3"
  },
  "language_info": {
   "codemirror_mode": {
    "name": "ipython",
    "version": 3
   },
   "file_extension": ".py",
   "mimetype": "text/x-python",
   "name": "python",
   "nbconvert_exporter": "python",
   "pygments_lexer": "ipython3",
   "version": "3.11.2"
  },
  "orig_nbformat": 4,
  "vscode": {
   "interpreter": {
    "hash": "de47f5c92c0ee6f12a59a5613ac5feff6aab19ddff207ba0b3964cced08c4ccc"
   }
  }
 },
 "nbformat": 4,
 "nbformat_minor": 2
}
